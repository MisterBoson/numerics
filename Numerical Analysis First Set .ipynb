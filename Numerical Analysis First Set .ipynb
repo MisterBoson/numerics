{
 "cells": [
  {
   "cell_type": "markdown",
   "metadata": {},
   "source": [
    "# Numerical Analysis "
   ]
  },
  {
   "cell_type": "markdown",
   "metadata": {},
   "source": [
    "## Exercise 1"
   ]
  },
  {
   "cell_type": "markdown",
   "metadata": {},
   "source": [
    "In the initial range of  $[0.5,1] $ , we have the following function of $ f(x)= 2x+ 3sin(4x) - e^x$ , in part (i) by hand with an accuracy of two decimals."
   ]
  },
  {
   "cell_type": "code",
   "execution_count": null,
   "metadata": {},
   "outputs": [],
   "source": []
  },
  {
   "cell_type": "markdown",
   "metadata": {},
   "source": [
    "In part (ii), a scipt in python has been assembeled in order to calculate the root of the function in 3, 6 and 12 decimals in accuracy."
   ]
  },
  {
   "cell_type": "code",
   "execution_count": 6,
   "metadata": {},
   "outputs": [],
   "source": [
    "# Numerical Analysis Course - Physics Department Auth \n",
    "# Michael Chadolias  AEM: 14871\n",
    "#\n",
    "# Set 1st \n",
    "# Exercise 1b\n",
    "\n",
    "import numpy as np\n",
    "import matplotlib.pyplot as plt\n",
    "import matplotlib.ticker as ticker"
   ]
  },
  {
   "cell_type": "code",
   "execution_count": 7,
   "metadata": {},
   "outputs": [],
   "source": [
    "def func(x):\n",
    "    return 2*x+3*np.sin(4*x)-np.exp(x)\n",
    "#define the function"
   ]
  },
  {
   "cell_type": "code",
   "execution_count": 8,
   "metadata": {},
   "outputs": [],
   "source": [
    "diff= [10**(-3),10**(-6),10**(-12)] #accuracy \n",
    "iteration= [1]\n",
    "a ,b ,index= 0.5, 1.0 , 1 #initial conditions \n",
    "distance= [a,b] #range \n",
    "fun=[] #function\n",
    "sol=[] \n",
    "mesos= np.average(distance)\n",
    "notification=[0,0]"
   ]
  },
  {
   "cell_type": "code",
   "execution_count": 9,
   "metadata": {},
   "outputs": [
    {
     "name": "stdout",
     "output_type": "stream",
     "text": [
      "For error 0.001 the iteration must reach: 12 0.7337036132812500\n",
      "For error 1e-06 the iteration must reach: 22 0.7337501645088196\n",
      "For error 1e-12 the iteration must reach: 42 0.7337501563750379\n"
     ]
    }
   ],
   "source": [
    "while True:\n",
    "    if (func(distance[0])*func(mesos))<0:\n",
    "        distance[-1]= mesos\n",
    "        fun.append(func(mesos))\n",
    "        sol.append(mesos)\n",
    "       # print('%.d %.16f'% (iteration[-1], func(mesos)))\n",
    "        mesos= np.average(distance)\n",
    "    else:\n",
    "        distance[0]= mesos\n",
    "        fun.append(func(mesos))\n",
    "        sol.append(mesos)\n",
    "      #  print('%.d %.16f'% (iteration[-1], func(mesos)))\n",
    "        mesos= np.average(distance)\n",
    "    if iteration[-1]>2:\n",
    "        if (np.abs(fun[-1]-fun[-2])<diff[-1]):\n",
    "            break   \n",
    "        elif  (np.abs(fun[-1]-fun[-2])<diff[-2]): \n",
    "            if notification[0]==0:\n",
    "                print(\"For error\",diff[-2],\"the iteration must reach:\",'%.d %.16f'%(iteration[-1], sol[-1]))\n",
    "                notification[0]=1\n",
    "        elif  (np.abs(fun[-1]-fun[-2])<diff[-3]):\n",
    "            if notification[1]==0:\n",
    "                print(\"For error\", diff[-3] ,\"the iteration must reach:\",'%.d %.16f'%(iteration[-1], sol[-1]))\n",
    "                notification[1]=1\n",
    "    iteration.append(index)\n",
    "    index= index+1    \n",
    "print(\"For error\",diff[-1],\"the iteration must reach:\",'%.d %.16f'%(iteration[-1], sol[-1]))"
   ]
  },
  {
   "cell_type": "code",
   "execution_count": 10,
   "metadata": {},
   "outputs": [
    {
     "data": {
      "image/png": "[encoded data removed]",
      "text/plain": [
       "<Figure size 432x288 with 1 Axes>"
      ]
     },
     "metadata": {
      "needs_background": "light"
     },
     "output_type": "display_data"
    }
   ],
   "source": [
    "N = len(sol)\n",
    "error = sol[N-1]-sol\n",
    "fig, ax = plt.subplots()\n",
    "ax.plot(iteration, abs(error))\n",
    "ax.set_yscale('log')\n",
    "ax.set(xlabel='iteration', ylabel='error')\n",
    "ax.grid()\n",
    "plt.xlim(right=N-2)\n",
    "tick_spacing = 1\n",
    "ax.xaxis.set_major_locator(ticker.MultipleLocator(tick_spacing))\n",
    "plt.show()"
   ]
  },
  {
   "cell_type": "markdown",
   "metadata": {},
   "source": [
    "As part of the (iii), the initial function of $ f(x) $, is solved in the same levels of accuracy with the Linear Interpolation and Newton-Raphson"
   ]
  },
  {
   "cell_type": "markdown",
   "metadata": {},
   "source": [
    "The first method that is being calculated with the Linear Interpolation,"
   ]
  },
  {
   "cell_type": "code",
   "execution_count": 11,
   "metadata": {},
   "outputs": [],
   "source": [
    "def f1(x):\n",
    "    return 2*x+3*np.sin(4*x)-np.exp(x)"
   ]
  },
  {
   "cell_type": "code",
   "execution_count": 12,
   "metadata": {},
   "outputs": [],
   "source": [
    "#initial condition\n",
    "x= [0.5,1.0]\n",
    "iteration=[]\n",
    "sol=[]"
   ]
  },
  {
   "cell_type": "code",
   "execution_count": 13,
   "metadata": {},
   "outputs": [],
   "source": [
    "for i in range(0,10):\n",
    "   x.append( x[i+1]- f1(x[i+1])/(f1(x[i+1])-f1(x[i]))*(x[i+1]-x[i]))\n",
    "   iteration.append(i)\n",
    "   sol.append(x[i+2])\n",
    "   if x[-2]==x[-1]:\n",
    "       break"
   ]
  },
  {
   "cell_type": "code",
   "execution_count": 14,
   "metadata": {},
   "outputs": [
    {
     "data": {
      "image/png": "[encoded data removed]",
      "text/plain": [
       "<Figure size 432x288 with 1 Axes>"
      ]
     },
     "metadata": {
      "needs_background": "light"
     },
     "output_type": "display_data"
    }
   ],
   "source": [
    "N = len(sol)\n",
    "error = sol[N-1]-sol\n",
    "fig, ax = plt.subplots()\n",
    "ax.plot(iteration, abs(error))\n",
    "ax.set_yscale('log')\n",
    "ax.set(xlabel='iteration', ylabel='error')\n",
    "ax.grid()\n",
    "plt.xlim(right=N-2)\n",
    "tick_spacing = 1\n",
    "ax.xaxis.set_major_locator(ticker.MultipleLocator(tick_spacing))\n",
    "plt.show()"
   ]
  },
  {
   "cell_type": "markdown",
   "metadata": {},
   "source": [
    "The second method that is being calculated with Newton-Raphson,"
   ]
  },
  {
   "cell_type": "code",
   "execution_count": 15,
   "metadata": {},
   "outputs": [],
   "source": [
    "def f1(x):\n",
    "    return 2*x+3*np.sin(4*x)-np.exp(x)"
   ]
  },
  {
   "cell_type": "code",
   "execution_count": 16,
   "metadata": {},
   "outputs": [
    {
     "data": {
      "image/png": "[encoded data removed]",
      "text/plain": [
       "<Figure size 432x288 with 1 Axes>"
      ]
     },
     "metadata": {
      "needs_background": "light"
     },
     "output_type": "display_data"
    }
   ],
   "source": [
    "xpoints = np.linspace(-0.5,1,500)\n",
    "fpoints = f1(xpoints)\n",
    "\n",
    "plot1 = plt.plot(xpoints, fpoints)\n",
    "plt.grid(True)\n",
    "plt.show(plot1)"
   ]
  },
  {
   "cell_type": "code",
   "execution_count": 17,
   "metadata": {},
   "outputs": [
    {
     "name": "stdout",
     "output_type": "stream",
     "text": [
      "0 0.5000000000000000\n",
      "1 0.9478575088524588\n",
      "2 0.7012083864794754\n",
      "3 0.7344929947971298\n",
      "4 0.7337504322873647\n",
      "5 0.7337501563750328\n",
      "6 0.7337501563749944\n",
      "7 0.7337501563749944\n"
     ]
    }
   ],
   "source": [
    "iteration = [0]\n",
    "i=1\n",
    "x=0.5\n",
    "solution = [x]\n",
    "print('%.d %.16f'% (iteration[0], solution[0]))\n",
    "while True:\n",
    "   x = x- f1(x)/(2+12*np.cos(4*x)-np.exp(x))\n",
    "   iteration.append(i)\n",
    "   solution.append(x)\n",
    "   print('%.d %.16f'% (iteration[i], solution[i]))\n",
    "   if solution[-1]==solution[-2]:\n",
    "       break\n",
    "   i=i+1"
   ]
  },
  {
   "cell_type": "code",
   "execution_count": 18,
   "metadata": {},
   "outputs": [
    {
     "data": {
      "image/png": "[encoded data removed]",
      "text/plain": [
       "<Figure size 432x288 with 1 Axes>"
      ]
     },
     "metadata": {
      "needs_background": "light"
     },
     "output_type": "display_data"
    }
   ],
   "source": [
    "N = len(solution)\n",
    "error = solution[N-1]-solution\n",
    "fig, ax = plt.subplots()\n",
    "ax.plot(iteration, abs(error))\n",
    "ax.set_yscale('log')\n",
    "ax.set(xlabel='iteration', ylabel='error')\n",
    "ax.grid()\n",
    "plt.xlim(right=N-2)\n",
    "tick_spacing = 1\n",
    "ax.xaxis.set_major_locator(ticker.MultipleLocator(tick_spacing))\n",
    "plt.show()"
   ]
  }
 ],
 "metadata": {
  "kernelspec": {
   "display_name": "Python 3",
   "language": "python",
   "name": "python3"
  },
  "language_info": {
   "codemirror_mode": {
    "name": "ipython",
    "version": 3
   },
   "file_extension": ".py",
   "mimetype": "text/x-python",
   "name": "python",
   "nbconvert_exporter": "python",
   "pygments_lexer": "ipython3",
   "version": "3.8.5"
  }
 },
 "nbformat": 4,
 "nbformat_minor": 4
}
